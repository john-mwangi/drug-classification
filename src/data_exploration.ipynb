{
    "cells": [
        {
            "cell_type": "markdown",
            "source": [
                "**About this problem**\r\n",
                "* This is a multi-label problem\r\n",
                "* The targets have 206 features (binary) with each observation containing several combinations of features\r\n",
                "* A gbm could be used but this would entail training a separate gbm for each feature since they don't support multi-label processing. This would require a lot of time. \r\n",
                "* A neural network would overcome this problem."
            ],
            "metadata": {}
        },
        {
            "cell_type": "code",
            "execution_count": 45,
            "source": [
                "import pandas as pd\r\n",
                "import re\r\n",
                "import glob\r\n",
                "import matplotlib.pyplot as plt\r\n",
                "%matplotlib inline"
            ],
            "outputs": [],
            "metadata": {}
        },
        {
            "cell_type": "code",
            "execution_count": 40,
            "source": [
                "file_paths = glob.glob(\"../inputs/*.csv\")\r\n",
                "\r\n",
                "re.search(pattern=\"[a-z]+_.*.csv\", string=file_paths[0]).group(0)\r\n",
                "\r\n",
                "file_names = [re.search(pattern=\"[a-z]+_.*.csv\", string=file_path).group(0) for file_path in file_paths]\r\n",
                "\r\n",
                "file_names"
            ],
            "outputs": [
                {
                    "output_type": "execute_result",
                    "data": {
                        "text/plain": [
                            "['sample_submission.csv',\n",
                            " 'test_features.csv',\n",
                            " 'train_drug.csv',\n",
                            " 'train_features.csv',\n",
                            " 'train_targets_nonscored.csv',\n",
                            " 'train_targets_scored.csv']"
                        ]
                    },
                    "metadata": {},
                    "execution_count": 40
                }
            ],
            "metadata": {}
        },
        {
            "cell_type": "code",
            "execution_count": 41,
            "source": [
                "df_dict = {}\r\n",
                "\r\n",
                "for f,p in zip(file_names, file_paths):\r\n",
                "    df = pd.read_csv(p)\r\n",
                "    df_dict[f] = df"
            ],
            "outputs": [],
            "metadata": {}
        },
        {
            "cell_type": "code",
            "execution_count": 43,
            "source": [
                "sample_submission = pd.read_csv(file_paths[0])\r\n",
                "test_features = pd.read_csv(file_paths[1])\r\n",
                "train_drug = pd.read_csv(file_paths[2])\r\n",
                "train_features = pd.read_csv(file_paths[3])\r\n",
                "train_targets_nonscored = pd.read_csv(file_paths[4])\r\n",
                "train_targets_scored = pd.read_csv(file_paths[5])"
            ],
            "outputs": [],
            "metadata": {}
        },
        {
            "cell_type": "code",
            "execution_count": 50,
            "source": [
                "train_features.shape"
            ],
            "outputs": [
                {
                    "output_type": "execute_result",
                    "data": {
                        "text/plain": [
                            "(23814, 876)"
                        ]
                    },
                    "metadata": {},
                    "execution_count": 50
                }
            ],
            "metadata": {}
        },
        {
            "cell_type": "code",
            "execution_count": 51,
            "source": [
                "train_features.sig_id.nunique()"
            ],
            "outputs": [
                {
                    "output_type": "execute_result",
                    "data": {
                        "text/plain": [
                            "23814"
                        ]
                    },
                    "metadata": {},
                    "execution_count": 51
                }
            ],
            "metadata": {}
        },
        {
            "cell_type": "code",
            "execution_count": 54,
            "source": [
                "train_features.cp_type.value_counts()"
            ],
            "outputs": [
                {
                    "output_type": "execute_result",
                    "data": {
                        "text/plain": [
                            "trt_cp         21948\n",
                            "ctl_vehicle     1866\n",
                            "Name: cp_type, dtype: int64"
                        ]
                    },
                    "metadata": {},
                    "execution_count": 54
                }
            ],
            "metadata": {}
        },
        {
            "cell_type": "code",
            "execution_count": 56,
            "source": [
                "train_targets_scored.head()"
            ],
            "outputs": [
                {
                    "output_type": "execute_result",
                    "data": {
                        "text/plain": [
                            "         sig_id  5-alpha_reductase_inhibitor  11-beta-hsd1_inhibitor  \\\n",
                            "0  id_000644bb2                            0                       0   \n",
                            "1  id_000779bfc                            0                       0   \n",
                            "2  id_000a6266a                            0                       0   \n",
                            "3  id_0015fd391                            0                       0   \n",
                            "4  id_001626bd3                            0                       0   \n",
                            "\n",
                            "   acat_inhibitor  acetylcholine_receptor_agonist  \\\n",
                            "0               0                               0   \n",
                            "1               0                               0   \n",
                            "2               0                               0   \n",
                            "3               0                               0   \n",
                            "4               0                               0   \n",
                            "\n",
                            "   acetylcholine_receptor_antagonist  acetylcholinesterase_inhibitor  \\\n",
                            "0                                  0                               0   \n",
                            "1                                  0                               0   \n",
                            "2                                  0                               0   \n",
                            "3                                  0                               0   \n",
                            "4                                  0                               0   \n",
                            "\n",
                            "   adenosine_receptor_agonist  adenosine_receptor_antagonist  \\\n",
                            "0                           0                              0   \n",
                            "1                           0                              0   \n",
                            "2                           0                              0   \n",
                            "3                           0                              0   \n",
                            "4                           0                              0   \n",
                            "\n",
                            "   adenylyl_cyclase_activator  ...  tropomyosin_receptor_kinase_inhibitor  \\\n",
                            "0                           0  ...                                      0   \n",
                            "1                           0  ...                                      0   \n",
                            "2                           0  ...                                      0   \n",
                            "3                           0  ...                                      0   \n",
                            "4                           0  ...                                      0   \n",
                            "\n",
                            "   trpv_agonist  trpv_antagonist  tubulin_inhibitor  \\\n",
                            "0             0                0                  0   \n",
                            "1             0                0                  0   \n",
                            "2             0                0                  0   \n",
                            "3             0                0                  0   \n",
                            "4             0                0                  0   \n",
                            "\n",
                            "   tyrosine_kinase_inhibitor  ubiquitin_specific_protease_inhibitor  \\\n",
                            "0                          0                                      0   \n",
                            "1                          0                                      0   \n",
                            "2                          0                                      0   \n",
                            "3                          0                                      0   \n",
                            "4                          0                                      0   \n",
                            "\n",
                            "   vegfr_inhibitor  vitamin_b  vitamin_d_receptor_agonist  wnt_inhibitor  \n",
                            "0                0          0                           0              0  \n",
                            "1                0          0                           0              0  \n",
                            "2                0          0                           0              0  \n",
                            "3                0          0                           0              0  \n",
                            "4                0          0                           0              0  \n",
                            "\n",
                            "[5 rows x 207 columns]"
                        ],
                        "text/html": [
                            "<div>\n",
                            "<style scoped>\n",
                            "    .dataframe tbody tr th:only-of-type {\n",
                            "        vertical-align: middle;\n",
                            "    }\n",
                            "\n",
                            "    .dataframe tbody tr th {\n",
                            "        vertical-align: top;\n",
                            "    }\n",
                            "\n",
                            "    .dataframe thead th {\n",
                            "        text-align: right;\n",
                            "    }\n",
                            "</style>\n",
                            "<table border=\"1\" class=\"dataframe\">\n",
                            "  <thead>\n",
                            "    <tr style=\"text-align: right;\">\n",
                            "      <th></th>\n",
                            "      <th>sig_id</th>\n",
                            "      <th>5-alpha_reductase_inhibitor</th>\n",
                            "      <th>11-beta-hsd1_inhibitor</th>\n",
                            "      <th>acat_inhibitor</th>\n",
                            "      <th>acetylcholine_receptor_agonist</th>\n",
                            "      <th>acetylcholine_receptor_antagonist</th>\n",
                            "      <th>acetylcholinesterase_inhibitor</th>\n",
                            "      <th>adenosine_receptor_agonist</th>\n",
                            "      <th>adenosine_receptor_antagonist</th>\n",
                            "      <th>adenylyl_cyclase_activator</th>\n",
                            "      <th>...</th>\n",
                            "      <th>tropomyosin_receptor_kinase_inhibitor</th>\n",
                            "      <th>trpv_agonist</th>\n",
                            "      <th>trpv_antagonist</th>\n",
                            "      <th>tubulin_inhibitor</th>\n",
                            "      <th>tyrosine_kinase_inhibitor</th>\n",
                            "      <th>ubiquitin_specific_protease_inhibitor</th>\n",
                            "      <th>vegfr_inhibitor</th>\n",
                            "      <th>vitamin_b</th>\n",
                            "      <th>vitamin_d_receptor_agonist</th>\n",
                            "      <th>wnt_inhibitor</th>\n",
                            "    </tr>\n",
                            "  </thead>\n",
                            "  <tbody>\n",
                            "    <tr>\n",
                            "      <th>0</th>\n",
                            "      <td>id_000644bb2</td>\n",
                            "      <td>0</td>\n",
                            "      <td>0</td>\n",
                            "      <td>0</td>\n",
                            "      <td>0</td>\n",
                            "      <td>0</td>\n",
                            "      <td>0</td>\n",
                            "      <td>0</td>\n",
                            "      <td>0</td>\n",
                            "      <td>0</td>\n",
                            "      <td>...</td>\n",
                            "      <td>0</td>\n",
                            "      <td>0</td>\n",
                            "      <td>0</td>\n",
                            "      <td>0</td>\n",
                            "      <td>0</td>\n",
                            "      <td>0</td>\n",
                            "      <td>0</td>\n",
                            "      <td>0</td>\n",
                            "      <td>0</td>\n",
                            "      <td>0</td>\n",
                            "    </tr>\n",
                            "    <tr>\n",
                            "      <th>1</th>\n",
                            "      <td>id_000779bfc</td>\n",
                            "      <td>0</td>\n",
                            "      <td>0</td>\n",
                            "      <td>0</td>\n",
                            "      <td>0</td>\n",
                            "      <td>0</td>\n",
                            "      <td>0</td>\n",
                            "      <td>0</td>\n",
                            "      <td>0</td>\n",
                            "      <td>0</td>\n",
                            "      <td>...</td>\n",
                            "      <td>0</td>\n",
                            "      <td>0</td>\n",
                            "      <td>0</td>\n",
                            "      <td>0</td>\n",
                            "      <td>0</td>\n",
                            "      <td>0</td>\n",
                            "      <td>0</td>\n",
                            "      <td>0</td>\n",
                            "      <td>0</td>\n",
                            "      <td>0</td>\n",
                            "    </tr>\n",
                            "    <tr>\n",
                            "      <th>2</th>\n",
                            "      <td>id_000a6266a</td>\n",
                            "      <td>0</td>\n",
                            "      <td>0</td>\n",
                            "      <td>0</td>\n",
                            "      <td>0</td>\n",
                            "      <td>0</td>\n",
                            "      <td>0</td>\n",
                            "      <td>0</td>\n",
                            "      <td>0</td>\n",
                            "      <td>0</td>\n",
                            "      <td>...</td>\n",
                            "      <td>0</td>\n",
                            "      <td>0</td>\n",
                            "      <td>0</td>\n",
                            "      <td>0</td>\n",
                            "      <td>0</td>\n",
                            "      <td>0</td>\n",
                            "      <td>0</td>\n",
                            "      <td>0</td>\n",
                            "      <td>0</td>\n",
                            "      <td>0</td>\n",
                            "    </tr>\n",
                            "    <tr>\n",
                            "      <th>3</th>\n",
                            "      <td>id_0015fd391</td>\n",
                            "      <td>0</td>\n",
                            "      <td>0</td>\n",
                            "      <td>0</td>\n",
                            "      <td>0</td>\n",
                            "      <td>0</td>\n",
                            "      <td>0</td>\n",
                            "      <td>0</td>\n",
                            "      <td>0</td>\n",
                            "      <td>0</td>\n",
                            "      <td>...</td>\n",
                            "      <td>0</td>\n",
                            "      <td>0</td>\n",
                            "      <td>0</td>\n",
                            "      <td>0</td>\n",
                            "      <td>0</td>\n",
                            "      <td>0</td>\n",
                            "      <td>0</td>\n",
                            "      <td>0</td>\n",
                            "      <td>0</td>\n",
                            "      <td>0</td>\n",
                            "    </tr>\n",
                            "    <tr>\n",
                            "      <th>4</th>\n",
                            "      <td>id_001626bd3</td>\n",
                            "      <td>0</td>\n",
                            "      <td>0</td>\n",
                            "      <td>0</td>\n",
                            "      <td>0</td>\n",
                            "      <td>0</td>\n",
                            "      <td>0</td>\n",
                            "      <td>0</td>\n",
                            "      <td>0</td>\n",
                            "      <td>0</td>\n",
                            "      <td>...</td>\n",
                            "      <td>0</td>\n",
                            "      <td>0</td>\n",
                            "      <td>0</td>\n",
                            "      <td>0</td>\n",
                            "      <td>0</td>\n",
                            "      <td>0</td>\n",
                            "      <td>0</td>\n",
                            "      <td>0</td>\n",
                            "      <td>0</td>\n",
                            "      <td>0</td>\n",
                            "    </tr>\n",
                            "  </tbody>\n",
                            "</table>\n",
                            "<p>5 rows × 207 columns</p>\n",
                            "</div>"
                        ]
                    },
                    "metadata": {},
                    "execution_count": 56
                }
            ],
            "metadata": {}
        },
        {
            "cell_type": "code",
            "execution_count": 64,
            "source": [
                "train_targets_scored.sum()[1:].sort_values(ascending=False)"
            ],
            "outputs": [
                {
                    "output_type": "execute_result",
                    "data": {
                        "text/plain": [
                            "nfkb_inhibitor                                832\n",
                            "proteasome_inhibitor                          726\n",
                            "cyclooxygenase_inhibitor                      435\n",
                            "dopamine_receptor_antagonist                  424\n",
                            "serotonin_receptor_antagonist                 404\n",
                            "                                             ... \n",
                            "elastase_inhibitor                              6\n",
                            "steroid                                         6\n",
                            "atm_kinase_inhibitor                            6\n",
                            "erbb2_inhibitor                                 1\n",
                            "atp-sensitive_potassium_channel_antagonist      1\n",
                            "Length: 206, dtype: object"
                        ]
                    },
                    "metadata": {},
                    "execution_count": 64
                }
            ],
            "metadata": {}
        },
        {
            "cell_type": "code",
            "execution_count": 62,
            "source": [
                "train_targets_scored[\"5-alpha_reductase_inhibitor\"].sum()"
            ],
            "outputs": [
                {
                    "output_type": "execute_result",
                    "data": {
                        "text/plain": [
                            "17"
                        ]
                    },
                    "metadata": {},
                    "execution_count": 62
                }
            ],
            "metadata": {}
        },
        {
            "cell_type": "code",
            "execution_count": 72,
            "source": [
                "gs = train_features[[col for col in train_features.columns if \"g-\" in col]][:1].values.reshape(-1,1)"
            ],
            "outputs": [],
            "metadata": {}
        },
        {
            "cell_type": "code",
            "execution_count": 73,
            "source": [
                "plt.plot(gs)"
            ],
            "outputs": [
                {
                    "output_type": "execute_result",
                    "data": {
                        "text/plain": [
                            "[<matplotlib.lines.Line2D at 0x239d3a4e880>]"
                        ]
                    },
                    "metadata": {},
                    "execution_count": 73
                },
                {
                    "output_type": "display_data",
                    "data": {
                        "text/plain": [
                            "<Figure size 432x288 with 1 Axes>"
                        ],
                        "image/png": "[encoded data removed]"
                    },
                    "metadata": {
                        "needs_background": "light"
                    }
                }
            ],
            "metadata": {}
        },
        {
            "cell_type": "code",
            "execution_count": 74,
            "source": [
                "plt.plot(sorted(gs))"
            ],
            "outputs": [
                {
                    "output_type": "execute_result",
                    "data": {
                        "text/plain": [
                            "[<matplotlib.lines.Line2D at 0x239d315f280>]"
                        ]
                    },
                    "metadata": {},
                    "execution_count": 74
                },
                {
                    "output_type": "display_data",
                    "data": {
                        "text/plain": [
                            "<Figure size 432x288 with 1 Axes>"
                        ],
                        "image/png": "[encoded data removed]"
                    },
                    "metadata": {
                        "needs_background": "light"
                    }
                }
            ],
            "metadata": {}
        },
        {
            "cell_type": "code",
            "execution_count": 77,
            "source": [
                "train_features[\"g-0\"].plot(kind=\"hist\")"
            ],
            "outputs": [
                {
                    "output_type": "execute_result",
                    "data": {
                        "text/plain": [
                            "<AxesSubplot:ylabel='Frequency'>"
                        ]
                    },
                    "metadata": {},
                    "execution_count": 77
                },
                {
                    "output_type": "display_data",
                    "data": {
                        "text/plain": [
                            "<Figure size 432x288 with 1 Axes>"
                        ],
                        "image/png": "[encoded data removed]"
                    },
                    "metadata": {
                        "needs_background": "light"
                    }
                }
            ],
            "metadata": {}
        },
        {
            "cell_type": "code",
            "execution_count": 78,
            "source": [
                "train_features[\"c-0\"].plot(kind=\"hist\")"
            ],
            "outputs": [
                {
                    "output_type": "execute_result",
                    "data": {
                        "text/plain": [
                            "<AxesSubplot:ylabel='Frequency'>"
                        ]
                    },
                    "metadata": {},
                    "execution_count": 78
                },
                {
                    "output_type": "display_data",
                    "data": {
                        "text/plain": [
                            "<Figure size 432x288 with 1 Axes>"
                        ],
                        "image/png": "[encoded data removed]"
                    },
                    "metadata": {
                        "needs_background": "light"
                    }
                }
            ],
            "metadata": {}
        },
        {
            "cell_type": "code",
            "execution_count": null,
            "source": [],
            "outputs": [],
            "metadata": {}
        }
    ],
    "metadata": {
        "orig_nbformat": 4,
        "language_info": {
            "name": "python"
        }
    },
    "nbformat": 4,
    "nbformat_minor": 2
}